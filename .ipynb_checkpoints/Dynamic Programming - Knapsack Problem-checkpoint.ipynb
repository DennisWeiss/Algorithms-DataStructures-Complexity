{
 "cells": [
  {
   "cell_type": "markdown",
   "metadata": {},
   "source": [
    "# Solving the 0/1 knapsack problem using Dynamic Programming\n",
    "\n",
    "Dynamic Programming can be used to solve the 0/1 knapsack problem. The following recursive definition can be given, where $i$ is the last item in the items list and $K$ is the maximum capacity (maximum weight) a knapsack (rucksack) can carry:\n",
    "\n",
    "$value(i,k)=\\begin{cases}\n",
    "    0, & \\text{if $i=0$}.\\\\\n",
    "    value(i-1,k), & \\text{if $i>0 \\land w[i]>k$}.\\\\\n",
    "    max(value(i-1,k), value(i-1,k-w[i]) + v[i]), & \\text{otherwise}.\n",
    "  \\end{cases}$\n",
    "  \n",
    "Looking at the $0^{th}$ item, the value that can be carried by the knapsack is 0, since there aren't any items available.\n",
    "If there is an item available, but it does not fit in the knapsack, the value achievable equals the value of the same problem but without this particular item at all. Since there is technically no difference for the outcome between an item that does not fit and an item that does not exist at all. Thus the same problem with $i-1$ can be returned as the solution.\n",
    "If the item fits in the backpack a decision has to be made. One possibility is to take this item into the knapsack. In that case the maximum value would be the sum of the value of this item and the maximum value obtainable with a smaller knapsack whose size is the remaining space of the original backpack after adding this new item (space of the rest-knapsack). The other possibility is to not take this item. In that case the obtainable value does again equal the value as if this item did not exist, so $value(i-1,k)$. The max function chooses between this two options and picks the one with the higher value.\n",
    "\n",
    "Without Dynamic Programming this would lead us into an exponential time algorithm. $k$ can be treated as a constant and $i$ as the problem size. To calculate the value of a problem of size $i$ up to two times (in the otherwise case) the value of a problem of size $i-1$ has to be calculated. That means the time to calculate the solution can double with each increment of $i$, what leads to an exponential time complexity. Thanks to Dynamic Programming this can be sped up. Instead of recalculating the same problem over and over again, a calculated solution gets stored in a dictionary with a 2-tuple of the parameters as key. Now instead of having to calculate the solution of the problem again, we can look up the value from the dictionary, what just takes a $\\mathcal{O}(1)$. Since every value just has to be calculated once the time it takes to calculate the solution of the whole problem is the product of the amount of subproblems and the time per problem. The amount of subproblems is at most the amount of possible tuples with the values $(1...n,0...K)$, thus it is $\\mathcal{O}(nK)$. The runtime of the problem is $\\mathcal{O}(nK) \\cdot \\mathcal{O}(1) = \\mathcal{O}(nK)$."
   ]
  },
  {
   "cell_type": "code",
   "execution_count": 1,
   "metadata": {
    "scrolled": true
   },
   "outputs": [
    {
     "name": "stdout",
     "output_type": "stream",
     "text": [
      "With memoization:\n",
      "Result: 183\n",
      "Function calls: 502\n",
      "\n",
      "Without memoization:\n",
      "Result: 183\n",
      "Function calls: 2026\n"
     ]
    }
   ],
   "source": [
    "K = 120 #Maximum capacity\n",
    "\n",
    "items = [(13, 19), (11, 20), (17, 23), (15, 21), (16, 27), (14, 25), (18, 25), \n",
    "         (10, 18), (19, 24), (12, 17)] #list of weight, value pairs of all items\n",
    "\n",
    "n = len(items) - 1 #index of last items\n",
    "\n",
    "weights = []\n",
    "values = []\n",
    "\n",
    "calls = 0 #global variable to count function calls\n",
    "\n",
    "for item in items:\n",
    "    weights.append(item[0])\n",
    "    values.append(item[1])\n",
    "\n",
    "\n",
    "#memoize decorator\n",
    "def memoize(f):\n",
    "    memo = {}\n",
    "    \n",
    "    def helper(i, k):\n",
    "        if (i, k) not in memo:\n",
    "            memo[(i, k)] = f(i, k)\n",
    "        return memo[(i, k)]\n",
    "    \n",
    "    return helper\n",
    "\n",
    "\n",
    "@memoize\n",
    "def value_memo(i, k):\n",
    "    global calls\n",
    "    calls += 1\n",
    "    \n",
    "    if i < 0:\n",
    "        return 0\n",
    "    if weights[i] > k:\n",
    "        return value_memo(i - 1, k)\n",
    "    return max(value_memo(i - 1, k), value_memo(i - 1, k - weights[i]) + values[i])\n",
    "\n",
    "\n",
    "def value(i, k):\n",
    "    global calls\n",
    "    calls += 1\n",
    "    \n",
    "    if i < 0:\n",
    "        return 0\n",
    "    if weights[i] > k:\n",
    "        return value(i - 1, k)\n",
    "    return max(value(i - 1, k), value(i - 1, k - weights[i]) + values[i])\n",
    "\n",
    "\n",
    "print('With memoization:')\n",
    "print('Result: ' + str(value_memo(n, K)))\n",
    "print('Function calls: ' + str(calls))\n",
    "calls = 0\n",
    "print()\n",
    "print('Without memoization:')\n",
    "print('Result: ' + str(value(n, K)))\n",
    "print('Function calls: ' + str(calls))\n"
   ]
  },
  {
   "cell_type": "code",
   "execution_count": 2,
   "metadata": {
    "scrolled": false
   },
   "outputs": [
    {
     "data": {
      "image/png": "[encoded data removed]",
      "text/plain": [
       "<matplotlib.figure.Figure at 0x269e77eeac8>"
      ]
     },
     "metadata": {},
     "output_type": "display_data"
    }
   ],
   "source": [
    "import random as rnd\n",
    "import matplotlib.pyplot as plt\n",
    "from matplotlib.ticker import MaxNLocator\n",
    "import numpy as np\n",
    "\n",
    "\n",
    "def rand_items(n):\n",
    "    items = []\n",
    "    for i in range(0, n):\n",
    "        items.append((rnd.randint(1, 100), rnd.randint(1, 100)))\n",
    "    return items\n",
    "\n",
    "\n",
    "calls_with_memo = []\n",
    "calls_without_memo = []\n",
    "\n",
    "for i in range(2, 21):\n",
    "    calls1 = 0\n",
    "    calls2 = 0\n",
    "    \n",
    "    for j in range(0, 5):\n",
    "        K = 20 * i\n",
    "        items = rand_items(i)\n",
    "        n = len(items) - 1\n",
    "        global weights\n",
    "        weights = []\n",
    "        global values\n",
    "        values = []\n",
    "        global calls\n",
    "        calls = 0\n",
    "        for item in items:\n",
    "            weights.append(item[0])\n",
    "            values.append(item[1])\n",
    "        value_memo(n, K)\n",
    "        calls1 += calls\n",
    "        calls = 0\n",
    "        value(n, K)\n",
    "        calls2 += calls\n",
    "        calls = 0\n",
    "    calls_with_memo.append(calls1 / 5)\n",
    "    calls_without_memo.append(calls2 / 5)\n",
    "    \n",
    "   \n",
    "   \n",
    "x = np.arange(2, 21)\n",
    "y1 = np.asarray(calls_with_memo)\n",
    "y2 = np.asarray(calls_without_memo)\n",
    "    \n",
    "fig = plt.figure(figsize=(11,8))\n",
    "ax1 = fig.add_subplot(111)\n",
    "\n",
    "ax1.plot(x, y1)\n",
    "ax1.plot(x, y2)\n",
    "ax1.xaxis.set_major_locator(MaxNLocator(integer=True))\n",
    "\n",
    "plt.show()"
   ]
  }
 ],
 "metadata": {
  "kernelspec": {
   "display_name": "Python 3",
   "language": "python",
   "name": "python3"
  },
  "language_info": {
   "codemirror_mode": {
    "name": "ipython",
    "version": 3
   },
   "file_extension": ".py",
   "mimetype": "text/x-python",
   "name": "python",
   "nbconvert_exporter": "python",
   "pygments_lexer": "ipython3",
   "version": "3.6.3"
  }
 },
 "nbformat": 4,
 "nbformat_minor": 2
}
