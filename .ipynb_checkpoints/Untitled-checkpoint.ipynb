{
 "cells": [
  {
   "cell_type": "markdown",
   "metadata": {},
   "source": [
    "# Arrays"
   ]
  },
  {
   "cell_type": "markdown",
   "metadata": {},
   "source": [
    "## Binary Search"
   ]
  },
  {
   "cell_type": "code",
   "execution_count": 7,
   "metadata": {},
   "outputs": [
    {
     "name": "stdout",
     "output_type": "stream",
     "text": [
      "2\n"
     ]
    }
   ],
   "source": [
    "import numpy as np\n",
    "import math\n",
    "\n",
    "def binary_search(arr, value, lo=None, hi=None):\n",
    "    if lo is None:\n",
    "        lo = 0\n",
    "    if hi is None:\n",
    "        hi = len(arr)\n",
    "    if lo >= hi:\n",
    "        return None\n",
    "    mid = math.floor((lo + hi) / 2)\n",
    "    if value == arr[mid]:\n",
    "        return mid\n",
    "    if value < arr[mid]:\n",
    "        return binary_search(arr, value, lo, mid)\n",
    "    return binary_search(arr, value, mid+1, hi)\n",
    "\n",
    "print(binary_search(np.array([1, 4, 6, 7, 9, 13, 15, 16, 18, 20, 21]), 6))"
   ]
  },
  {
   "cell_type": "code",
   "execution_count": null,
   "metadata": {
    "collapsed": true
   },
   "outputs": [],
   "source": []
  }
 ],
 "metadata": {
  "kernelspec": {
   "display_name": "Python 3",
   "language": "python",
   "name": "python3"
  },
  "language_info": {
   "codemirror_mode": {
    "name": "ipython",
    "version": 3
   },
   "file_extension": ".py",
   "mimetype": "text/x-python",
   "name": "python",
   "nbconvert_exporter": "python",
   "pygments_lexer": "ipython3",
   "version": "3.6.3"
  }
 },
 "nbformat": 4,
 "nbformat_minor": 2
}
