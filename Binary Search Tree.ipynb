{
 "cells": [
  {
   "cell_type": "code",
   "execution_count": 2,
   "metadata": {},
   "outputs": [
    {
     "name": "stdout",
     "output_type": "stream",
     "text": [
      "<__main__.Node object at 0x00000189D3D7EF28>\n",
      "<__main__.Node object at 0x00000189D3D740B8>\n",
      "None\n",
      "<__main__.Node object at 0x00000189D3D74080>\n",
      "7\n"
     ]
    }
   ],
   "source": [
    "class Node:\n",
    "    def __init__(self, value, parent=None):\n",
    "        self.value = value\n",
    "        self.parent = parent\n",
    "        self.left = None\n",
    "        self.right = None\n",
    "\n",
    "    def get(self, value):\n",
    "        return self._get(value, self)\n",
    "\n",
    "    def _get(self, value, node):\n",
    "        if node is None or node.value is None:\n",
    "            return None\n",
    "        if value == node.value:\n",
    "            return node\n",
    "        if value < node.value:\n",
    "            return self._get(value, node.left)\n",
    "        return self._get(value, node.right)\n",
    "\n",
    "    def insert(self, value):\n",
    "        self._insert(value, self)\n",
    "\n",
    "    def _insert(self, value, node):\n",
    "        if node.value is None:\n",
    "            node.value = value\n",
    "        else:\n",
    "            if value < node.value:\n",
    "                if node.left is None:\n",
    "                    node.left = Node(value, node)\n",
    "                else:\n",
    "                    self._insert(value, node.left)\n",
    "            else:\n",
    "                if node.right is None:\n",
    "                    node.right = Node(value, node)\n",
    "                else:\n",
    "                    self._insert(value, node.right)\n",
    "\n",
    "    def remove(self, value):\n",
    "        self._remove(value, self)\n",
    "\n",
    "    def _remove(self, value, root):\n",
    "        node = root.get(value)\n",
    "        if node is not None:\n",
    "            if node.left is None and node.right is None:\n",
    "                if value < node.parent.value:\n",
    "                    node.parent.left = None\n",
    "                else:\n",
    "                    node.parent.right = None\n",
    "            elif node.right is None:\n",
    "                if value < node.parent.value:\n",
    "                    node.parent.left = node.left\n",
    "                else:\n",
    "                    node.parent.right = node.left\n",
    "            elif node.left is None:\n",
    "                if value < node.parent.value:\n",
    "                    node.parent.left = node.right\n",
    "                else:\n",
    "                    node.parent.right = node.right\n",
    "            else:\n",
    "                other_node = self._smallest(node.right)\n",
    "                node.value = other_node.value\n",
    "                self._remove(other_node.value, other_node)\n",
    "\n",
    "    def _smallest(self, node):\n",
    "        if node.left is None:\n",
    "            return node\n",
    "        return self._smallest(node.left)\n",
    "\n",
    "\n",
    "bst = Node(5)\n",
    "bst.insert(1)\n",
    "bst.insert(9)\n",
    "bst.insert(2)\n",
    "bst.insert(7)\n",
    "bst.insert(3)\n",
    "bst.insert(4)\n",
    "bst.insert(8)\n",
    "\n",
    "bst.remove(5)\n",
    "\n",
    "print(bst.get(7))\n",
    "print(bst.get(4))\n",
    "print(bst.get(5))\n",
    "print(bst.get(3))\n",
    "print(bst.value)"
   ]
  },
  {
   "cell_type": "code",
   "execution_count": null,
   "metadata": {
    "collapsed": true
   },
   "outputs": [],
   "source": []
  }
 ],
 "metadata": {
  "kernelspec": {
   "display_name": "Python 3",
   "language": "python",
   "name": "python3"
  },
  "language_info": {
   "codemirror_mode": {
    "name": "ipython",
    "version": 3
   },
   "file_extension": ".py",
   "mimetype": "text/x-python",
   "name": "python",
   "nbconvert_exporter": "python",
   "pygments_lexer": "ipython3",
   "version": "3.6.3"
  }
 },
 "nbformat": 4,
 "nbformat_minor": 2
}
