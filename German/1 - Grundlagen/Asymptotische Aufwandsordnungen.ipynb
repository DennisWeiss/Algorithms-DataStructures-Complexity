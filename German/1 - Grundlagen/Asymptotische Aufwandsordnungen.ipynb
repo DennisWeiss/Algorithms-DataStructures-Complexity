{
 "cells": [
  {
   "cell_type": "markdown",
   "metadata": {},
   "source": [
    "# Asymptotische Aufwandsordnungen\n",
    "\n",
    "## Groß-O\n",
    "\n",
    "Die Groß-O ($\\mathcal{O}$) Notation ist eine mathematische Notation, die das Verhalten der Funktionswerte einer Funktion für größer werdende Argumente beschreibt. $\\mathcal{O}$ gehört zur Gruppe der Notationen, welche durch Paul Bachmann und Edmund Landau eingeführt wurden, und deshalb auch Bachmann-Landau Notationen genannt werden.\n",
    "\n",
    "In der Informatik wird die Groß-O Notation genutzt um Algorithmen bezüglich ihrer Laufzeit und ihres Speicherbedarfs zu klassifizieren.\n",
    "\n",
    "<div style=\"background: #f4f4f4; margin: 20px 40px; line-height: 2.2em; padding: 5px 15px;\">\n",
    "$f(n) = \\mathcal{O}(g(n))$ mit $n \\rightarrow \\infty$, wenn und nur dann, wenn \n",
    "<br>\n",
    "$\\exists c \\in \\mathbb{R}^+ \\ldotp \\exists n_0 \\in \\mathbb{N} \\ldotp \\forall n \\geqslant n_0 \\ldotp$ $f(n) \\leqslant c \\cdot g(n)$\n",
    "</div>\n",
    "\n",
    "Diese Definition sagt aus, dass $f$ genau dann zu $\\mathcal{O}(g)$ gehört, wenn es ein $c$ gibt, für das alle $f(n)$ ab einem bestimmten $n_0$ kleiner sind als $c \\cdot g(n)$. $c$ ist dabei eine reelle Zahl, welche größer als 0 ist. Die Funktion $g$, welche durch die Landau-Notation angegeben wird, dient also als obere Schranke für die Funktion $f$.\n",
    "\n",
    "<img src=\"https://upload.wikimedia.org/wikipedia/commons/8/89/Big-O-notation.png\" alt=\"Drawing\" style=\"width:350px;\"/>\n",
    "\n",
    "Da es sich um eine obere Schranke handelt, gilt beispielsweise: $\\mathcal{O}(n) \\subset \\mathcal{O}(n^2)$ oder $\\mathcal{O}(n^2) \\subset \\mathcal{O}(n^3)$ oder $\\mathcal{O}(n^2) \\subset \\mathcal{O}(2^n)$. Es ist also auch korrekt anstatt $\\mathcal{O}(n)$ $\\mathcal{O}(n^2)$ anzugeben, dies wäre jedoch für die Praxis nicht sehr sinnvoll.\n",
    "\n",
    "Typische Laufzeiten sind: $\\mathcal{O}(1)$, $\\mathcal{O}(n)$, $\\mathcal{O}(n \\log n)$, $\\mathcal{O}(n^2)$, $\\mathcal{O}(n^3)$, $\\mathcal{O}(2^n)$ und $\\mathcal{O}(n!)$. Es gibt jedoch unendlich weitere mögliche Komplexitätsklassen. Außerdem muss es sich nicht immer um die Variable $n$ handeln, es können auch mehrere Variablen innerhalb einer Komplexitätslkasse vorkommen. Zum Beispiel ist der Aufwand, um eine Wand der Höhe $h$ und der Breite $b$ zu bemalen $\\mathcal{O}(hb)$.\n",
    "\n",
    "\n",
    "<img src=\"https://cdn-images-1.medium.com/max/1600/1*yekzNjsqZzGCET2KotEROQ.png\" alt=\"Drawing\" style=\"width: 600px;\"/>\n",
    "\n",
    "## Groß-Omega\n",
    "\n",
    "Die Groß-Omega ($\\Omega$) Notation ist ein äquivalentes Konzept zu Groß-O, beschreibt jedoch eine untere Schranke. Die formale Defintion lautet demnach folgendermaßen:\n",
    "\n",
    "<div style=\"background: #f4f4f4; margin: 20px 40px; line-height: 2.2em; padding: 5px 15px;\">\n",
    "$f(n) = \\Omega(g(n))$ mit $n \\rightarrow \\infty$, wenn und nur dann, wenn \n",
    "<br>\n",
    "$\\exists c \\in \\mathbb{R}^+ \\ldotp \\exists n_0 \\in \\mathbb{N} \\ldotp \\forall n \\geqslant n_0 \\ldotp$ $f(n) \\geqslant c \\cdot g(n)$\n",
    "</div>\n",
    "\n",
    "$f$ gehört genau dann zu $\\Omega(g)$, wenn es ein $c$ gibt, für das alle $f(n)$ ab einem bestimmten $n_0$ größer sind als $c \\cdot g(n)$.\n",
    "\n",
    "## Groß-Theta\n",
    "\n",
    "Im Idealfall kann man eine asymptotische Beschrankung nach oben und unten durch ein und dieselbe Funktion mit verschiedenen Faktoren angeben. Grafisch wirkt dies wie ein Band, in dem die Graphen sämtlicher Funktionen aus $\\Theta(g)$ verlaufen. $\\Theta$ beschreibt damit die exakte Komplexitätsklasse.\n",
    "\n",
    "<div style=\"background: #f4f4f4; margin: 20px 40px; line-height: 2.2em; padding: 5px 15px;\">\n",
    "$f(n) = \\Theta(g(n))$ mit $n \\rightarrow \\infty$, wenn und nur dann, wenn \n",
    "<br>\n",
    "$\\exists c_1, c_2 \\in \\mathbb{R}^+ \\ldotp \\exists n_0 \\in \\mathbb{N} \\ldotp \\forall n \\geqslant n_0 \\ldotp$ $c_1 \\cdot f(n) \\leqslant f(n) \\leqslant c_2 \\cdot g(n)$\n",
    "</div>\n",
    "\n",
    "In der Praxis wird meistens die $\\mathcal{O}$-Notation verwendet. Oft ist damit auch die exakte Aufwandordnung gemeint und wird somit anstatt $\\Theta$ verwendet, auch wenn dies korrekt wäre.\n",
    "\n",
    "## Best Case, Worst Case, Average Case"
   ]
  }
 ],
 "metadata": {
  "kernelspec": {
   "display_name": "Python 3",
   "language": "python",
   "name": "python3"
  },
  "language_info": {
   "codemirror_mode": {
    "name": "ipython",
    "version": 3
   },
   "file_extension": ".py",
   "mimetype": "text/x-python",
   "name": "python",
   "nbconvert_exporter": "python",
   "pygments_lexer": "ipython3",
   "version": "3.6.3"
  }
 },
 "nbformat": 4,
 "nbformat_minor": 2
}
