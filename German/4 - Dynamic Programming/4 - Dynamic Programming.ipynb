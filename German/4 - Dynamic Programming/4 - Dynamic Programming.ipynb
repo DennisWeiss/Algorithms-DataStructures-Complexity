{
 "cells": [
  {
   "cell_type": "markdown",
   "metadata": {
    "collapsed": true
   },
   "source": [
    "## Lösen des 0/1 Rucksack-Problems durch Dynamic Programming\n",
    "\n",
    "Um das 0/1 Rucksack Problem zu lösen kann Dynamic Programming benutzt werden. Die folgende rekursive Gleichung kann aufgestellt werden, während $i$ der letzte Gegenstand in der Gegenstandsliste ist und $K$ die maximale Kapazität (das maximale Gewicht), welcher der Rucksack tragen kann, ist.\n",
    "\n",
    "$value(i,k)=\\begin{cases}\n",
    "    0, & \\text{wenn $i=0$}.\\\\\n",
    "    value(i-1,k), & \\text{wenn $i>0 \\land w[i]>k$}.\\\\\n",
    "    max(value(i-1,k), value(i-1,k-w[i]) + v[i]), & \\text{sonst}.\n",
    "  \\end{cases}$\n",
    "  \n",
    "Betrachtet man die Gegenstandsliste bis zum 0. Gegenstand, so ist der Wert, der vom Rucksack getragen werden kann, 0, da keine Gegenstände zur Verfügung stehen. Wenn ein Gegenstand verfügbar ist, aber nicht in den Rucksack reinpasst, der erreichbare Wert ist gleich dem Wert des gleichen Problems ohne genau diesen Gegenstand. Dies liegt daran, dass es zwischen einem Gegenstand, der nciht reinpasst und einem Gegenstand, der gar nicht existiert, keinen Unterschied gibt. Dadurch wird das gleiche Probleme mit $i-1$ als Lösung zurückgegeben. \n",
    "Passt der Gegenstand aber in den Rucksack, so muss eine Entscheidung getroffen werden. Eine Möglichkeit ist, den Gegenstand in den Rucksack zu legen. In diesem Fall ist der Maximalwert gleich der Summe des Wertes genau diesen Gegenstands und dem erreichbaren Wert eines kleineren Rucksacks, der die Größe der verbleibenden Kapazität hat (der Platz im Restrucksack). Die andere Möglichkeit ist, diesen Gegenstand nicht in den Rucksack zu legen. In diesem Fall ist der Wert, der von der Funktion zurückgegeben wird gleich der erreichbaren Wert mit $i-1$ Gegenständen, also $value(i-1,k)$. Die $max()$ Funktion wählt die bessere der beiden Optionen.\n",
    "\n",
    "Ohne Dynamic Programming wäre dies ein Exponentialzeit-Algorithmus. $k$ kann als Konstante betrachtet werden und $i$ als die Problemgröße. Um den Wert eines Problems mit der Größe $i$ zu berechnen, muss bis zu zwei-mal (im sonst-Fall) der Wert eines Problems der Größe $i-1$ berechnet werden. Das heißt die Zeit zur Berechnung der Lösung verdoppelt sich mit jedem Inkrement von $i$, was zu einer exponentiellen Laufzeit führt. Dank Dynamic Programming kann dies beschleunigt werden. Anstatt das gleiche Problem immer neuzuberechnen, wird die Lösung in einem Dictionary mit einem 2-Tuple der Parameter als Key gespeichert. Nun kann in vielen Fällen, der Wert aus dem Dictionary in $\\mathcal{O}(1)$ gelesen werden. Da jeder Wert nur einmal berechnet werden muss, ist die Zeit, um das große Gesamtproblem zu lösen, das Produkt aus der Anzahl der Teilprobleme und der Zeit pro Problem. Die Zahl der Teilprobleme ist maximal die Anzahl der möglichen Tuples mit den Werten $(1...n,0...K)$, also $\\mathcal{O}(nK)$. Die Laufzeit des Problems ist $\\mathcal{O}(nK) \\cdot \\mathcal{O}(1) = \\mathcal{O}(nK)$."
   ]
  },
  {
   "cell_type": "code",
   "execution_count": 10,
   "metadata": {},
   "outputs": [
    {
     "name": "stdout",
     "output_type": "stream",
     "text": [
      "Mit Memoization:\n",
      "Ergebnis: 183\n",
      "Funktionsaufrufe: 502\n",
      "\n",
      "Ohne Memoization:\n",
      "Ergebnis: 183\n",
      "Funktionsaufrufe: 2026\n"
     ]
    }
   ],
   "source": [
    "K = 120 #Maximale Kapazität\n",
    "\n",
    "items = [(13, 19), (11, 20), (17, 23), (15, 21), (16, 27), (14, 25), (18, 25), \n",
    "         (10, 18), (19, 24), (12, 17)] #Liste der Gewicht, Werte Paare aller Gegenstände\n",
    "\n",
    "n = len(items) - 1 #Index des letzten Gegenstands\n",
    "\n",
    "weights = []\n",
    "values = []\n",
    "\n",
    "calls = 0 #Globale Variable um alle Funktionsaufrufe zu zählen\n",
    "\n",
    "for item in items:\n",
    "    weights.append(item[0])\n",
    "    values.append(item[1])\n",
    "\n",
    "\n",
    "#memoize decorator\n",
    "def memoize(f):\n",
    "    memo = {}\n",
    "    \n",
    "    def helper(i, k):\n",
    "        if (i, k) not in memo:\n",
    "            memo[(i, k)] = f(i, k)\n",
    "        return memo[(i, k)]\n",
    "    \n",
    "    return helper\n",
    "\n",
    "\n",
    "@memoize\n",
    "def value_memo(i, k):\n",
    "    global calls\n",
    "    calls += 1\n",
    "    \n",
    "    if i < 0:\n",
    "        return 0\n",
    "    if weights[i] > k:\n",
    "        return value_memo(i - 1, k)\n",
    "    return max(value_memo(i - 1, k), value_memo(i - 1, k - weights[i]) + values[i])\n",
    "\n",
    "\n",
    "def value(i, k):\n",
    "    global calls\n",
    "    calls += 1\n",
    "    \n",
    "    if i < 0:\n",
    "        return 0\n",
    "    if weights[i] > k:\n",
    "        return value(i - 1, k)\n",
    "    return max(value(i - 1, k), value(i - 1, k - weights[i]) + values[i])\n",
    "\n",
    "\n",
    "print('Mit Memoization:')\n",
    "print('Ergebnis: ' + str(value_memo(n, K)))\n",
    "print('Funktionsaufrufe: ' + str(calls))\n",
    "calls = 0\n",
    "print()\n",
    "print('Ohne Memoization:')\n",
    "print('Ergebnis: ' + str(value(n, K)))\n",
    "print('Funktionsaufrufe: ' + str(calls))"
   ]
  },
  {
   "cell_type": "code",
   "execution_count": 11,
   "metadata": {},
   "outputs": [
    {
     "data": {
      "image/png": "[encoded data removed]",
      "text/plain": [
       "<matplotlib.figure.Figure at 0x20c3cce4ba8>"
      ]
     },
     "metadata": {},
     "output_type": "display_data"
    }
   ],
   "source": [
    "import random as rnd\n",
    "import matplotlib.pyplot as plt\n",
    "from matplotlib.ticker import MaxNLocator\n",
    "import numpy as np\n",
    "\n",
    "\n",
    "def rand_items(n):\n",
    "    items = []\n",
    "    for i in range(0, n):\n",
    "        items.append((rnd.randint(1, 100), rnd.randint(1, 100)))\n",
    "    return items\n",
    "\n",
    "\n",
    "calls_with_memo = []\n",
    "calls_without_memo = []\n",
    "\n",
    "for i in range(2, 21):\n",
    "    calls1 = 0\n",
    "    calls2 = 0\n",
    "    \n",
    "    for j in range(0, 5):\n",
    "        K = 20 * i\n",
    "        items = rand_items(i)\n",
    "        n = len(items) - 1\n",
    "        global weights\n",
    "        weights = []\n",
    "        global values\n",
    "        values = []\n",
    "        global calls\n",
    "        calls = 0\n",
    "        for item in items:\n",
    "            weights.append(item[0])\n",
    "            values.append(item[1])\n",
    "        value_memo(n, K)\n",
    "        calls1 += calls\n",
    "        calls = 0\n",
    "        value(n, K)\n",
    "        calls2 += calls\n",
    "        calls = 0\n",
    "    calls_with_memo.append(calls1 / 5)\n",
    "    calls_without_memo.append(calls2 / 5)\n",
    "    \n",
    "   \n",
    "   \n",
    "x = np.arange(2, 21)\n",
    "y1 = np.asarray(calls_with_memo)\n",
    "y2 = np.asarray(calls_without_memo)\n",
    "    \n",
    "fig = plt.figure(figsize=(11,8))\n",
    "ax1 = fig.add_subplot(111)\n",
    "\n",
    "ax1.plot(x, y1)\n",
    "ax1.plot(x, y2)\n",
    "ax1.xaxis.set_major_locator(MaxNLocator(integer=True))\n",
    "\n",
    "plt.show()"
   ]
  }
 ],
 "metadata": {
  "kernelspec": {
   "display_name": "Python 3",
   "language": "python",
   "name": "python3"
  },
  "language_info": {
   "codemirror_mode": {
    "name": "ipython",
    "version": 3
   },
   "file_extension": ".py",
   "mimetype": "text/x-python",
   "name": "python",
   "nbconvert_exporter": "python",
   "pygments_lexer": "ipython3",
   "version": "3.6.3"
  }
 },
 "nbformat": 4,
 "nbformat_minor": 2
}
