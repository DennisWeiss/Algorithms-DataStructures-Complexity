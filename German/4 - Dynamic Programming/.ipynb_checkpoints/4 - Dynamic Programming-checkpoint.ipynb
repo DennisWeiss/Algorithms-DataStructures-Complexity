{
 "cells": [
  {
   "cell_type": "markdown",
   "metadata": {},
   "source": [
    "# Dynamic Programming\n",
    "\n",
    "Dynamic Programming ermöglicht es Probleme in Laufzeiten, wie $\\mathcal{O}(n^2)$ oder $\\mathcal{O}(n^3)$, zu lösen, für die sonst exponentieller Aufwand nötig wäre. Das Wort _Programming_ steht hier für Optimierung (ähnlich wie bei Linear Programming). Das Wort Optimierung ist zutreffend, da mit Dynamic Porgamming Optimierungsprobleme gelöst werden können, also Probleme, bei denen ein Minimum bzw. Maximum gefunden werden soll.\n",
    "\n",
    "Das Ziel dabei ist, ein großes Gesamtproblem in kleinere Teilprobleme zu teilen und die Lösung der Teilprobleme zu speichern. Anders formuliert tut man so, als hätte man die Lösung für ein Subproblem und nutzt dieses um ein nächst größeres Problem zu lösen. Es lässt sich also sagen: Dynamic Programming = Recursion + Guessing. Ein entscheidender Unterschied zu Divide and Conquer, wo auch Probleme in kleinere Teilprobleme geteilt werden, ist, dass die Teilprobleme sich überlappen. Dies macht es möglich, durch das Speichern der Lösungen einen sehr großen Gewinn bezüglich des Rechenaufwands zu erzielen.\n",
    "\n",
    "Grundlegende Eigenschaften:\n",
    "\n",
    " - Das große Problem wird in Teilprobleme geteilt\n",
    " - Die optimale Lösung des Teilproblems wird genutzt um die optimale Lösung des größeren Problems zu finden\n",
    " - Die Optimalitätsbedingung (Principle of Optimality) muss gelten, d.h. die optimale Lösung des Gesamtproblems muss sich zwangsläufig aus den optimalen Lösungen der Teilprobleme ergeben\n",
    " - Trade space for time - es wird zusätzlicher Speicherplatz investiert, um den Algorithmus deutlich zu beschleunigen\n",
    "\n",
    "\n",
    "## Fibonacci\n",
    "\n",
    "Ein Beispiel, für welches Dynamic Programming benutzt werden kann, sind die Fibonacci Zahlen. Es ist relativ einfach die Bildungsvorschrift anzugeben:\n",
    "\n",
    "$$\n",
    "fib(n) = \\begin{cases}\n",
    "    0, & \\text{wenn $n=0$}. \\\\\n",
    "    1, & \\text{wenn $n=1$}. \\\\\n",
    "    fib(n-1) + fib(n-2) & \\text{sonst}.\n",
    "\\end{cases}\n",
    "$$\n",
    "\n",
    "Dies lässt sich auch schnell programmieren:"
   ]
  },
  {
   "cell_type": "code",
   "execution_count": 62,
   "metadata": {
    "scrolled": false
   },
   "outputs": [
    {
     "name": "stdout",
     "output_type": "stream",
     "text": [
      "[1, 1, 2, 3, 5, 8, 13, 21, 34, 55, 89, 144, 233, 377]\n"
     ]
    }
   ],
   "source": [
    "def fib_naive(n):\n",
    "    if n == 0:\n",
    "        return 0\n",
    "    if n == 1:\n",
    "        return 1\n",
    "    return fib_naive(n-1) + fib_naive(n-2)\n",
    "\n",
    "print(list(map(fib_naive, list(range(1, 15)))))"
   ]
  },
  {
   "cell_type": "markdown",
   "metadata": {},
   "source": [
    "### Rekursionbaum"
   ]
  },
  {
   "cell_type": "code",
   "execution_count": 63,
   "metadata": {
    "scrolled": true
   },
   "outputs": [
    {
     "data": {
      "image/svg+xml": [
       "<svg baseProfile=\"tiny\" height=\"100%\" version=\"1.2\" width=\"100%\" xmlns=\"http://www.w3.org/2000/svg\" xmlns:ev=\"http://www.w3.org/2001/xml-events\" xmlns:xlink=\"http://www.w3.org/1999/xlink\"><defs/><text x=\"450\" y=\"30\">fib(4)</text><line stroke=\"rgb(10%,10%,16%)\" x1=\"450\" x2=\"412.0213\" y1=\"38\" y2=\"55\"/><line stroke=\"rgb(10%,10%,16%)\" x1=\"470\" x2=\"507.9787\" y1=\"38\" y2=\"55\"/><text x=\"402.0212862362522\" y=\"70\">fib(3)</text><line stroke=\"rgb(10%,10%,16%)\" x1=\"402.0213\" x2=\"382.3688\" y1=\"78\" y2=\"95\"/><line stroke=\"rgb(10%,10%,16%)\" x1=\"422.0213\" x2=\"441.6738\" y1=\"78\" y2=\"95\"/><text x=\"372.3688103937537\" y=\"110\">fib(2)</text><line stroke=\"rgb(10%,10%,16%)\" x1=\"372.3688\" x2=\"364.0426\" y1=\"118\" y2=\"135\"/><line stroke=\"rgb(10%,10%,16%)\" x1=\"392.3688\" x2=\"400.695\" y1=\"118\" y2=\"135\"/><text x=\"354.0425724725044\" y=\"150\">fib(1)</text><text x=\"390.69504831500296\" y=\"150\">fib(0)</text><text x=\"431.6737620787507\" y=\"110\">fib(1)</text><text x=\"497.9787137637478\" y=\"70\">fib(2)</text><line stroke=\"rgb(10%,10%,16%)\" x1=\"497.9787\" x2=\"489.6525\" y1=\"78\" y2=\"95\"/><line stroke=\"rgb(10%,10%,16%)\" x1=\"517.9787\" x2=\"526.305\" y1=\"78\" y2=\"95\"/><text x=\"479.6524758424985\" y=\"110\">fib(1)</text><text x=\"516.304951684997\" y=\"110\">fib(0)</text></svg>"
      ],
      "text/plain": [
       "<IPython.core.display.SVG object>"
      ]
     },
     "execution_count": 63,
     "metadata": {},
     "output_type": "execute_result"
    }
   ],
   "source": [
    "import svgwrite\n",
    "from IPython.display import SVG, display\n",
    "\n",
    "fib_tree_svg = svgwrite.Drawing('fib_tree.svg', profile='tiny')\n",
    "\n",
    "phi = (1 + 5 ** 0.5) / 2\n",
    "\n",
    "def fib_tree(n, x, y):\n",
    "    if n == 0:\n",
    "        fib_tree_svg.add(fib_tree_svg.text('fib(0)', insert=(x, y)))\n",
    "    elif n == 1:\n",
    "        fib_tree_svg.add(fib_tree_svg.text('fib(1)', insert=(x, y)))\n",
    "    else:\n",
    "        fib_tree_svg.add(fib_tree_svg.text(f'fib({n})', insert=(x, y)))\n",
    "        fib_tree_svg.add(fib_tree_svg.line((x, y+8), (x+10-phi**n*7, y+25), stroke=svgwrite.rgb(10, 10, 16, '%')))\n",
    "        fib_tree_svg.add(fib_tree_svg.line((x+20, y+8), (x+10+phi**n*7, y+25), stroke=svgwrite.rgb(10, 10, 16, '%')))\n",
    "        fib_tree(n-1, x-phi**n*7, y+40)\n",
    "        fib_tree(n-2, x+phi**n*7, y+40)\n",
    "\n",
    "fib_tree(4, 450, 30)\n",
    "fib_tree_svg.save()\n",
    "SVG(filename='./fib_tree.svg')"
   ]
  },
  {
   "cell_type": "markdown",
   "metadata": {},
   "source": [
    "### Nutzung von Dynamic Programming\n",
    "\n",
    "Analysiert man die Zeitkomplexität des oben beschriebenen Algorithmus, so muss man festellen, dass es sich um einen exponentiellen Aufwand handelt (genau $\\Theta(\\phi^n)$); und das für ein Problem, das nicht sehr komplex zu sein scheint. Jedoch kann Dynamic Programming genutzt werden, um die Fibonacci Zahlen wesentlich schneller zu berechnen.\n",
    "\n",
    "Die Grundidee besteht darin, jeden Wert nur einmal ausrechnen zu müssen. Wurde einmal der Wert einer Fibonacci Zahl berechnet, so wird er in einem Zwischenspeicher abgelegt und steht nun zur Verfügung, sobald dieser Wert wieder benötigt wird. Hierfür sollte eine Datenstruktur gewählt werden, mit der man in $\\mathcal{O}(1)$ einen Wert in Abhängigkeit vom Key lesen kann. Hier bietet es sich an eine Hashmap, die vom Parameter $n$ auf $fib(n)$ abbildet, oder ein Array, bei dem die $n$-te Fibonacci Zahl am Index $n$ steht, zu nutzen. "
   ]
  },
  {
   "cell_type": "code",
   "execution_count": 64,
   "metadata": {},
   "outputs": [
    {
     "name": "stdout",
     "output_type": "stream",
     "text": [
      "[1, 1, 2, 3, 5, 8, 13, 21, 34, 55, 89, 144, 233, 377]\n"
     ]
    }
   ],
   "source": [
    "dic = {}\n",
    "\n",
    "def fib(n):\n",
    "    if n in dic:\n",
    "        return dic[n]\n",
    "    if n == 0:\n",
    "        f = 0\n",
    "    elif n == 1:\n",
    "        f = 1\n",
    "    else:\n",
    "        f = fib(n-1) + fib(n-2)\n",
    "    dic[n] = f\n",
    "    return f\n",
    "\n",
    "print(list(map(fib, list(range(1, 15)))))"
   ]
  },
  {
   "cell_type": "markdown",
   "metadata": {},
   "source": [
    "Bei der oben beschriebenen Variante handelt es sich um die Top-Down Version des Dynamic Programming-Ansatzes. Man spricht hier von Top-Down, da man zunächst versucht die Wurzel des Rekursionsbaums zu berechnen, dafür dann aber schrittweise den Baum runter in Richtung Blätter gehen muss, um die Fibonacci-Zahlen ausrechnen zu können."
   ]
  },
  {
   "cell_type": "code",
   "execution_count": 72,
   "metadata": {},
   "outputs": [
    {
     "data": {
      "image/svg+xml": [
       "<svg baseProfile=\"tiny\" height=\"100%\" version=\"1.2\" width=\"100%\" xmlns=\"http://www.w3.org/2000/svg\" xmlns:ev=\"http://www.w3.org/2001/xml-events\" xmlns:xlink=\"http://www.w3.org/1999/xlink\"><defs/><text x=\"450\" y=\"30\">fib(4)</text><line stroke=\"rgb(10%,10%,16%)\" x1=\"450\" x2=\"422\" y1=\"38\" y2=\"55\"/><line stroke=\"rgb(10%,10%,16%)\" x1=\"470\" x2=\"500\" y1=\"38\" y2=\"55\"/><text x=\"490\" y=\"70\">fib(2)</text><text x=\"410\" y=\"70\">fib(3)</text><line stroke=\"rgb(10%,10%,16%)\" x1=\"410\" x2=\"382\" y1=\"78\" y2=\"95\"/><line stroke=\"rgb(10%,10%,16%)\" x1=\"430\" x2=\"460\" y1=\"78\" y2=\"95\"/><text x=\"450\" y=\"110\">fib(1)</text><text x=\"370\" y=\"110\">fib(2)</text><line stroke=\"rgb(10%,10%,16%)\" x1=\"370\" x2=\"342\" y1=\"118\" y2=\"135\"/><line stroke=\"rgb(10%,10%,16%)\" x1=\"390\" x2=\"420\" y1=\"118\" y2=\"135\"/><text x=\"410\" y=\"150\">fib(0)</text><text x=\"330\" y=\"150\">fib(1)</text></svg>"
      ],
      "text/plain": [
       "<IPython.core.display.SVG object>"
      ]
     },
     "execution_count": 72,
     "metadata": {},
     "output_type": "execute_result"
    }
   ],
   "source": [
    "fib_tree_dp_svg = svgwrite.Drawing('fib_tree_dp.svg', profile='tiny')\n",
    "\n",
    "phi = (1 + 5 ** 0.5) / 2\n",
    "\n",
    "def fib_tree_dp(n, x, y):\n",
    "    if n == 0:\n",
    "        fib_tree_dp_svg.add(fib_tree_svg.text('fib(0)', insert=(x, y)))\n",
    "    elif n == 1:\n",
    "        fib_tree_dp_svg.add(fib_tree_svg.text('fib(1)', insert=(x, y)))\n",
    "    else:\n",
    "        fib_tree_dp_svg.add(fib_tree_svg.text(f'fib({n})', insert=(x, y)))\n",
    "        fib_tree_dp_svg.add(fib_tree_svg.line((x, y+8), (x-28, y+25), stroke=svgwrite.rgb(10, 10, 16, '%')))\n",
    "        fib_tree_dp_svg.add(fib_tree_svg.line((x+20, y+8), (x+50, y+25), stroke=svgwrite.rgb(10, 10, 16, '%')))\n",
    "        fib_tree_dp_svg.add(fib_tree_svg.text(f'fib({n-2})', insert=(x+40, y+40)))\n",
    "        fib_tree_dp(n-1, x-40, y+40)\n",
    "\n",
    "fib_tree_dp(4, 450, 30)\n",
    "fib_tree_dp_svg.save()\n",
    "SVG(filename='./fib_tree_dp.svg')"
   ]
  },
  {
   "cell_type": "markdown",
   "metadata": {},
   "source": [
    "Der Rekursionbaum zeigt, dass die Werte für $n-2$ nicht rekursiv zerlegt werden müssen, sondern bereits vorliegen. Dadurch wächst der Rekursionsbaum nich exponentiell, sondern lienar.\n",
    "\n",
    "Die Alternative ist es, einen Bottom-Up Algorithmus zu entwerfen, also einen Algorithmus, der bei einem Blatt des Rekursionsbaum anfängt und schrittweise die nächstgrößeren Werte berechnet. Bei den Fibonacci Zahlen ist der Bottom-Up Ansatz relativ intuitiv. Ausgehend von den bereits gegebenen Werten von $fib(0)=0$ und $fib(1)=1$ berechnet man in einer Schleife von 2 bis $n$ schrittweise den nächstgrößeren Wert. Da zur Berechnung einer Fibonacci Zahl, die zwei nächstkleineren Fibonacci Zahlen benötigt werden, ist sichergestellt, dass die nötigen Werte bereits vorliegen, da man in der Schleife von klein bis groß geht."
   ]
  },
  {
   "cell_type": "code",
   "execution_count": 65,
   "metadata": {},
   "outputs": [
    {
     "name": "stdout",
     "output_type": "stream",
     "text": [
      "[1, 1, 2, 3, 5, 8, 13, 21, 34, 55, 89, 144, 233, 377]\n"
     ]
    }
   ],
   "source": [
    "def fib_bottom_up(n):\n",
    "    if n == 0:\n",
    "        return 0\n",
    "    if n == 1:\n",
    "        return 1\n",
    "    n_minus_2 = 0\n",
    "    n_minus_1 = 1\n",
    "    for i in range(2, n+1):\n",
    "        f = n_minus_1 + n_minus_2\n",
    "        n_minus_2 = n_minus_1\n",
    "        n_minus_1 = f\n",
    "    return f\n",
    "\n",
    "print(list(map(fib_bottom_up, list(range(1, 15)))))"
   ]
  },
  {
   "cell_type": "markdown",
   "metadata": {},
   "source": [
    "In beiden Fällen müssen $n$ Fibonacci Zahlen berechnet werden, deren Zeitaufwand lediglich bei $\\mathcal{O}(1)$ liegt, da die Werte entweder schon vorliegen, bzw. sie beim Top-Down Ansatz vorliegen, sobald die Blätter des Rekursionsbaum erreicht sind. Somit ergibt sich insgesamt ein Zeitaufwand von $\\mathcal{O}(n) \\cdot \\mathcal{O}(1) = \\mathcal{O}(n)$."
   ]
  },
  {
   "cell_type": "markdown",
   "metadata": {
    "collapsed": true
   },
   "source": [
    "## Lösen des 0/1 Rucksack-Problems durch Dynamic Programming\n",
    "\n",
    "Um das 0/1 Rucksack Problem zu lösen kann Dynamic Programming benutzt werden. Die folgende rekursive Gleichung kann aufgestellt werden, während $i$ der letzte Gegenstand in der Gegenstandsliste ist und $K$ die maximale Kapazität (das maximale Gewicht), welcher der Rucksack tragen kann, ist.\n",
    "\n",
    "$$value(i,k)=\\begin{cases}\n",
    "    0, & \\text{wenn $i=0$}.\\\\\n",
    "    value(i-1,k), & \\text{wenn $i>0 \\land w[i]>k$}.\\\\\n",
    "    max(value(i-1,k), value(i-1,k-w[i]) + v[i]), & \\text{sonst}.\n",
    "  \\end{cases}$$\n",
    "  \n",
    "Betrachtet man die Gegenstandsliste bis zum 0. Gegenstand, so ist der Wert, der vom Rucksack getragen werden kann, 0, da keine Gegenstände zur Verfügung stehen. Wenn ein Gegenstand verfügbar ist, aber nicht in den Rucksack reinpasst, der erreichbare Wert ist gleich dem Wert des gleichen Problems ohne genau diesen Gegenstand. Dies liegt daran, dass es zwischen einem Gegenstand, der nciht reinpasst und einem Gegenstand, der gar nicht existiert, keinen Unterschied gibt. Dadurch wird das gleiche Probleme mit $i-1$ als Lösung zurückgegeben. \n",
    "Passt der Gegenstand aber in den Rucksack, so muss eine Entscheidung getroffen werden. Eine Möglichkeit ist, den Gegenstand in den Rucksack zu legen. In diesem Fall ist der Maximalwert gleich der Summe des Wertes genau diesen Gegenstands und dem erreichbaren Wert eines kleineren Rucksacks, der die Größe der verbleibenden Kapazität hat (der Platz im Restrucksack). Die andere Möglichkeit ist, diesen Gegenstand nicht in den Rucksack zu legen. In diesem Fall ist der Wert, der von der Funktion zurückgegeben wird gleich der erreichbaren Wert mit $i-1$ Gegenständen, also $value(i-1,k)$. Die $max()$ Funktion wählt die bessere der beiden Optionen.\n",
    "\n",
    "Ohne Dynamic Programming wäre dies ein Exponentialzeit-Algorithmus. $k$ kann als Konstante betrachtet werden und $i$ als die Problemgröße. Um den Wert eines Problems mit der Größe $i$ zu berechnen, muss bis zu zwei-mal (im sonst-Fall) der Wert eines Problems der Größe $i-1$ berechnet werden. Das heißt die Zeit zur Berechnung der Lösung verdoppelt sich mit jedem Inkrement von $i$, was zu einer exponentiellen Laufzeit führt. Dank Dynamic Programming kann dies beschleunigt werden. Anstatt das gleiche Problem immer neuzuberechnen, wird die Lösung in einem Dictionary mit einem 2-Tuple der Parameter als Key gespeichert. Nun kann in vielen Fällen, der Wert aus dem Dictionary in $\\mathcal{O}(1)$ gelesen werden. Da jeder Wert nur einmal berechnet werden muss, ist die Zeit, um das große Gesamtproblem zu lösen, das Produkt aus der Anzahl der Teilprobleme und der Zeit pro Problem. Die Zahl der Teilprobleme ist maximal die Anzahl der möglichen Tuples mit den Werten $(1...n,0...K)$, also $\\mathcal{O}(nK)$. Die Laufzeit des Problems ist $\\mathcal{O}(nK) \\cdot \\mathcal{O}(1) = \\mathcal{O}(nK)$."
   ]
  },
  {
   "cell_type": "code",
   "execution_count": 66,
   "metadata": {},
   "outputs": [
    {
     "name": "stdout",
     "output_type": "stream",
     "text": [
      "Mit Memoization:\n",
      "Ergebnis: 183\n",
      "Funktionsaufrufe: 502\n",
      "\n",
      "Ohne Memoization:\n",
      "Ergebnis: 183\n",
      "Funktionsaufrufe: 2026\n"
     ]
    }
   ],
   "source": [
    "K = 120 #Maximale Kapazität\n",
    "\n",
    "items = [(13, 19), (11, 20), (17, 23), (15, 21), (16, 27), (14, 25), (18, 25), \n",
    "         (10, 18), (19, 24), (12, 17)] #Liste der Gewicht, Werte Paare aller Gegenstände\n",
    "\n",
    "n = len(items) - 1 #Index des letzten Gegenstands\n",
    "\n",
    "weights = []\n",
    "values = []\n",
    "\n",
    "calls = 0 #Globale Variable um alle Funktionsaufrufe zu zählen\n",
    "\n",
    "for item in items:\n",
    "    weights.append(item[0])\n",
    "    values.append(item[1])\n",
    "\n",
    "\n",
    "#memoize decorator\n",
    "def memoize(f):\n",
    "    memo = {}\n",
    "    \n",
    "    def helper(i, k):\n",
    "        if (i, k) not in memo:\n",
    "            memo[(i, k)] = f(i, k)\n",
    "        return memo[(i, k)]\n",
    "    \n",
    "    return helper\n",
    "\n",
    "\n",
    "@memoize\n",
    "def value_memo(i, k):\n",
    "    global calls\n",
    "    calls += 1\n",
    "    \n",
    "    if i < 0:\n",
    "        return 0\n",
    "    if weights[i] > k:\n",
    "        return value_memo(i - 1, k)\n",
    "    return max(value_memo(i - 1, k), value_memo(i - 1, k - weights[i]) + values[i])\n",
    "\n",
    "\n",
    "def value(i, k):\n",
    "    global calls\n",
    "    calls += 1\n",
    "    \n",
    "    if i < 0:\n",
    "        return 0\n",
    "    if weights[i] > k:\n",
    "        return value(i - 1, k)\n",
    "    return max(value(i - 1, k), value(i - 1, k - weights[i]) + values[i])\n",
    "\n",
    "\n",
    "print('Mit Memoization:')\n",
    "print('Ergebnis: ' + str(value_memo(n, K)))\n",
    "print('Funktionsaufrufe: ' + str(calls))\n",
    "calls = 0\n",
    "print()\n",
    "print('Ohne Memoization:')\n",
    "print('Ergebnis: ' + str(value(n, K)))\n",
    "print('Funktionsaufrufe: ' + str(calls))"
   ]
  },
  {
   "cell_type": "code",
   "execution_count": 67,
   "metadata": {
    "scrolled": false
   },
   "outputs": [
    {
     "data": {
      "image/png": "[encoded data removed]",
      "text/plain": [
       "<matplotlib.figure.Figure at 0x29d2c423898>"
      ]
     },
     "metadata": {},
     "output_type": "display_data"
    }
   ],
   "source": [
    "import random as rnd\n",
    "import matplotlib.pyplot as plt\n",
    "from matplotlib.ticker import MaxNLocator\n",
    "import numpy as np\n",
    "\n",
    "\n",
    "def rand_items(n):\n",
    "    items = []\n",
    "    for i in range(0, n):\n",
    "        items.append((rnd.randint(1, 100), rnd.randint(1, 100)))\n",
    "    return items\n",
    "\n",
    "\n",
    "calls_with_memo = []\n",
    "calls_without_memo = []\n",
    "\n",
    "for i in range(2, 21):\n",
    "    calls1 = 0\n",
    "    calls2 = 0\n",
    "    \n",
    "    for j in range(0, 5):\n",
    "        K = 20 * i\n",
    "        items = rand_items(i)\n",
    "        n = len(items) - 1\n",
    "        global weights\n",
    "        weights = []\n",
    "        global values\n",
    "        values = []\n",
    "        global calls\n",
    "        calls = 0\n",
    "        for item in items:\n",
    "            weights.append(item[0])\n",
    "            values.append(item[1])\n",
    "        value_memo(n, K)\n",
    "        calls1 += calls\n",
    "        calls = 0\n",
    "        value(n, K)\n",
    "        calls2 += calls\n",
    "        calls = 0\n",
    "    calls_with_memo.append(calls1 / 5)\n",
    "    calls_without_memo.append(calls2 / 5)\n",
    "    \n",
    "   \n",
    "   \n",
    "x = np.arange(2, 21)\n",
    "y1 = np.asarray(calls_with_memo)\n",
    "y2 = np.asarray(calls_without_memo)\n",
    "    \n",
    "fig = plt.figure(figsize=(11,8))\n",
    "ax1 = fig.add_subplot(111)\n",
    "\n",
    "ax1.plot(x, y1)\n",
    "ax1.plot(x, y2)\n",
    "ax1.xaxis.set_major_locator(MaxNLocator(integer=True))\n",
    "\n",
    "plt.show()"
   ]
  },
  {
   "cell_type": "markdown",
   "metadata": {},
   "source": []
  },
  {
   "cell_type": "code",
   "execution_count": 73,
   "metadata": {},
   "outputs": [
    {
     "name": "stdout",
     "output_type": "stream",
     "text": [
      "-2\n"
     ]
    }
   ],
   "source": [
    "class Node:\n",
    "    def __init__(self, id):\n",
    "        self.id = id\n",
    "        self.adj = {}\n",
    "\n",
    "    def add(self, node, weight):\n",
    "        self.adj[node] = weight\n",
    "\n",
    "\n",
    "def bellman_ford(v, k):\n",
    "    if v == source:\n",
    "        return 0\n",
    "    if k == 0:\n",
    "        return float('inf')\n",
    "    min_dis = float('inf')\n",
    "    for u, w in v.adj.items():\n",
    "        dis = w + bellman_ford(u, k-1)\n",
    "        if dis < min_dis:\n",
    "            min_dis = dis\n",
    "    return min_dis\n",
    "\n",
    "a = Node('a')\n",
    "b = Node('b')\n",
    "c = Node('c')\n",
    "d = Node('d')\n",
    "e = Node('e')\n",
    "\n",
    "a.add(b, -1)\n",
    "a.add(c, 4)\n",
    "b.add(c, 3)\n",
    "b.add(d, 2)\n",
    "b.add(e, 2)\n",
    "d.add(b, 1)\n",
    "d.add(c, 5)\n",
    "e.add(d, -3)\n",
    "\n",
    "\n",
    "source = d\n",
    "print(bellman_ford(a, 5))"
   ]
  },
  {
   "cell_type": "code",
   "execution_count": 74,
   "metadata": {},
   "outputs": [
    {
     "name": "stdout",
     "output_type": "stream",
     "text": [
      "-2\n"
     ]
    }
   ],
   "source": [
    "#memoize decorator\n",
    "def memoize_bf(f):\n",
    "    memo = {}\n",
    "    \n",
    "    def helper(v, k):\n",
    "        if (v, k) not in memo:\n",
    "            memo[(v, k)] = f(v, k)\n",
    "        return memo[(v, k)]\n",
    "    \n",
    "    return helper\n",
    "\n",
    "\n",
    "@memoize_bf\n",
    "def bellman_ford_memo(v, k):\n",
    "    if v == source:\n",
    "        return 0\n",
    "    if k == 0:\n",
    "        return float('inf')\n",
    "    min_dis = float('inf')\n",
    "    for u, w in v.adj.items():\n",
    "        dis = w + bellman_ford_memo(u, k-1)\n",
    "        if dis < min_dis:\n",
    "            min_dis = dis\n",
    "    return min_dis\n",
    "\n",
    "print(bellman_ford_memo(a, 5))"
   ]
  }
 ],
 "metadata": {
  "kernelspec": {
   "display_name": "Python 3",
   "language": "python",
   "name": "python3"
  },
  "language_info": {
   "codemirror_mode": {
    "name": "ipython",
    "version": 3
   },
   "file_extension": ".py",
   "mimetype": "text/x-python",
   "name": "python",
   "nbconvert_exporter": "python",
   "pygments_lexer": "ipython3",
   "version": "3.6.3"
  }
 },
 "nbformat": 4,
 "nbformat_minor": 2
}
