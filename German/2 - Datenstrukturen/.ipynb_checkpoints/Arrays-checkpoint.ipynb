{
 "cells": [
  {
   "cell_type": "markdown",
   "metadata": {},
   "source": [
    "# Arrays\n",
    "\n",
    "Ein Array ist eine der grundlegendsten Datenstrukturen, bei welcher es sich um eine Sammlung von Elementen, welche alle durch einen Index eindeutig identifiziert werden, handelt. \n",
    "\n",
    "Die einfachste Form eines Arrays ist ein ein-dimensionales Array. Bei einem ein-dimensionalen Array werden alle Elemente direkt nacheinander im Arbeitsspeicher abgelegt. Durch diese Festlegung ist es möglich anhand des Index und der Basisadresse des Arrays (der Adresse des 0. Elements) direkt auf die Speicheradresse des Elements mit entsprechenden Index zuzugreifen.\n",
    "\n",
    "Bei höher-dimensionalen Arrays spricht man auch von Matrizen (Sg. Matrix). Hier bedarf es spezieller Funktionen, die von einem $n$-Tupel, das den Index angibt (bsp. (1, 2)), auf eine Speicheradresse abbildet. Eine mögliche Implementation für ein 2-dimensionales Array ist, jede Reihe der Matrix hintereinander abzuspeichern, und so anhand der Länge jeder Reihe auf den entsprechenden 2-dimensionalen Index zugreifen zu können.\n",
    "\n",
    "Es ist zu beachten, dass die Länge eines Arrays, im Gegensatz zu Listen, nicht variabel ist, da ein Array nicht über den für ihn zugewiesenen Speicherraum im Arbeitsspeicher hinausgehen darf.\n",
    "\n",
    "![Array](https://docs.oracle.com/javase/tutorial/figures/java/objects-tenElementArray.gif)\n",
    "\n",
    "## Komplexitätsbetrachtung\n",
    "\n",
    "### Lesen\n",
    "Da jeder Index einer festen Speicheradresse zugeordnet wird, kann in konstanter Zeit $\\mathcal{O}(1)$ auf ein Element zugegriffen werden.\n",
    "\n",
    "### Schreiben\n",
    "Zum Schreiben muss zunächst die Speicheradresse gefunden werden. Dies geschieht in konstanter Zeit. Anschließend muss der entsprechende Wert der Arbeitsspeicheradresse geändert werden. Hierfür ergibt sich ebenfalls eine Gesamtlaufzeit von $\\mathcal{O}(1)$. "
   ]
  },
  {
   "cell_type": "markdown",
   "metadata": {},
   "source": [
    "## Binary Search\n",
    "\n",
    "Möchte man nicht per Index auf ein Element zugreifen, sondern ein Element anhand des Wertes in einem Array finden, so könnte man jedes Element eines Arrays durchgehen und überprüfen, ob der Wert mit dem gesuchten Wert übereinstimmt. Da man hier bis zu $n$-Elemente ($n$: Anzahl der Elemente des Arrays) untersuchen muss, ist für die Suchoperation ein Zeitaufwand von $\\mathcal{O}(n)$ nötig.\n",
    "\n",
    "Handelt es sich um ein sortiertes Array, so kann man einen der grundlegendsten und bedeutendsten Algorithmen, nämlich Binary Search, nutzen. Bei diesem Algorithmus greift man zunächst auf das Element in der Mitte des Arrays zu und prüft, ob der Wert dieses Elements mit dem gesuchten Wert übereinstimmt. Ist dies der Fall, so hat man bereits das gesuchte Element gefunden. Ist dies nicht der Fall, so kann man die Tatsache, dass das Array sortiert ist, nutzen und überprüfen, ob der Wert des Elements kleiner oder größer ist, als der gesuchte Wert. Allgemein formuliert auf einer abstrakteren Ebene, wird geprüft ob die Elemente ($i$, $j$) ($i$: Wert des Elements, $j$: gesuchter Wert) zur gegebenen Ordnungsrelation gehören. Beim Sortieren von Zahlen handelt es sich um die < (\"kleiner als\") Relation. Ist der gesuchte Wert kleiner als der Wert des Elements, so lassen sich alle Elemente nach dem mittleren Element ausschließen, da sie aufgrund der Sortiertheit jeweils einen nicht-kleineren Wert haben als der Wert des mittleren Element, welcher bereits zu groß ist. Dies bedeutet, dass nur noch das Teilarray links neben dem mittleren Element in Frage kommt. Ist der gesuchte Wert größer, so kommt entsprechend nur noch die rechte Hälfte in Frage. Nun kann man mit diesem Teilarray erneut Binary Search durchführen und weiterhin in ein halb so großes Teilarray teilen. Dieser Vorgang wird so lange wiederholt, bis entweder das Element mit dem entsprechenden Wert gefunden wurde oder es sich um ein leeres Array handelt. Aus dem zweiten Fall lässt sich schließen, dass der gesuchte Wert im Array nicht vorkommt.\n",
    "\n",
    "<img src=\"https://qph.ec.quoracdn.net/main-qimg-aa8cb451067a7e3fc6dd9253b5617d45.webp\" alt=\"Drawing\" style=\"width: 450px;\"/>"
   ]
  },
  {
   "cell_type": "code",
   "execution_count": 1,
   "metadata": {},
   "outputs": [
    {
     "name": "stdout",
     "output_type": "stream",
     "text": [
      "2\n"
     ]
    }
   ],
   "source": [
    "import numpy as np\n",
    "import math\n",
    "\n",
    "def binary_search(arr, value, lo=None, hi=None):\n",
    "    if not lo:               #if now lower or upper bound parameters are given the entire array considered\n",
    "        lo = 0               #thus the lower bound is set to 0\n",
    "    if not hi:\n",
    "        hi = len(arr)        #and the upper bound is set to the last element of the array\n",
    "    if lo >= hi:             #if the lower bound is greater than or equal to the higher bound the rest array is empty,\n",
    "        return None          #thus the value can't be in this array\n",
    "    mid = math.floor((lo + hi) / 2) \n",
    "    if value == arr[mid]:    #the value of the element equals the value we search for -> we have found the element\n",
    "        return mid\n",
    "    if value < arr[mid]:     #the value is less than the value we search for -> element can only be in the left subarray\n",
    "        return binary_search(arr, value, lo, mid)\n",
    "    return binary_search(arr, value, mid+1, hi) #otherwise (the value is greater than or equal to the value we search for) \n",
    "                                                #-> the element can only be in the right subarray\n",
    "print(binary_search(np.array([1, 4, 6, 7, 9, 13, 15, 16, 18, 20, 21]), 6))"
   ]
  },
  {
   "cell_type": "markdown",
   "metadata": {
    "collapsed": true
   },
   "source": [
    "# Sortieren\n",
    "\n",
    "## Selection Sort\n",
    "\n",
    "Selection Sort ist einer der einfachsten Algorithmen zum Sortieren von Arrays. Man sucht zunächst nach dem kleinsten Element des Arrays und platziert es an den Anfang. Nun setzt man diesen Schritt mit dem restlichen Array fort und sucht auch hier nach dem kleinsten Element, dieses wird dann entsprechend dahinter, also an zweiter Stelle, platziert. Dieser Vorgang wird $n$-mal (n: Anzahl der Elemente im Array) wiederholt.\n",
    "\n",
    "### Komplexitätsbetrachtung\n",
    "\n",
    "$T(n)$ - Anzahl der Schritte in Abhängigkeit von $n$\n",
    "\n",
    "$$T(n) = \\sum_{i=1}^{n}(\\sum_{j=i}^{n}1) = \\sum_{i=1}^{n}i = \\frac{n\\cdot(n+1)}{2} = \\frac{n^2}{2}+\\frac{n}{2} = \\mathcal{O}(n^2)$$\n",
    "\n",
    "Damit liegt der Zeitaufwand von Selection Sort in $\\mathcal{O}(n^2)$.\n",
    "Da dieser Algorithmus als In-place Algorithmus ausgeführt werden kann, wird kein zusätzlicher Speicher benötigt und der Speicheraufwand liegt in $\\mathcal{O}(1)$."
   ]
  },
  {
   "cell_type": "code",
   "execution_count": 2,
   "metadata": {
    "scrolled": false
   },
   "outputs": [
    {
     "name": "stdout",
     "output_type": "stream",
     "text": [
      "[1 2 3 4 5 7 8]\n"
     ]
    }
   ],
   "source": [
    "def selection_sort(arr):\n",
    "    for i in range(0, len(arr)):\n",
    "        _min = arr[i]         #temporary variable to store the mininum found so far\n",
    "        index = i             #temporary variable to store the index of the mininum element found so far\n",
    "        for j in range(i+1, len(arr)):\n",
    "            if arr[j] < _min:   #found new minimum\n",
    "                _min = arr[j]\n",
    "                index = j\n",
    "        arr[i], arr[index] = arr[index], arr[i]  #put i-th lowest number at index i, i.e. swap at index i and index of lowest\n",
    "    return arr                                   #element, since order of the so far unsorted subarray doesn't matter\n",
    "\n",
    "print(selection_sort(np.asarray([5, 1, 8, 2, 7, 3, 4])))"
   ]
  },
  {
   "cell_type": "markdown",
   "metadata": {},
   "source": [
    "## Bubble Sort\n",
    "\n",
    "Bei diesem Sortierverfahren wird das Array mehrmals durchlaufen. Jedes Paar wird miteinander veglichen. Ist es in verkehrter Reihenfolge, also ist steht ein größerer Wert vor einem kleineren, so tauschen die beiden Elemente ihre Positionen. Damit das komplette Array sortiert wird, muss es $n$-mal durchlaufen werden.\n",
    "\n",
    "![Bubble Sort](https://upload.wikimedia.org/wikipedia/commons/thumb/8/83/Bubblesort-edited-color.svg/288px-Bubblesort-edited-color.svg.png)\n",
    "\n",
    "### Komplexitätsbetrachtung\n",
    "\n",
    "$T(n)$ - Anzahl der Schritte in Abhängigkeit von $n$\n",
    "\n",
    "$$T(n) = \\sum_{i=1}^{n}(\\sum_{j=1}^{i}1) = \\sum_{i=1}^{n}i = \\frac{n\\cdot(n+1)}{2} = \\frac{n^2}{2}+\\frac{n}{2} = \\mathcal{O}(n^2)$$\n",
    "\n",
    "Damit liegt der Zeitaufwand von Selection Sort in $\\mathcal{O}(n^2)$. Da dieser Algorithmus ebenfalls \"In-place\" ausgeführt wird, wird kein zusätzlicher Speicher benötigt und der Speicheraufwand ist $\\mathcal{O}(1)$."
   ]
  },
  {
   "cell_type": "code",
   "execution_count": 3,
   "metadata": {},
   "outputs": [
    {
     "name": "stdout",
     "output_type": "stream",
     "text": [
      "[1 2 3 4 5 7 8]\n"
     ]
    }
   ],
   "source": [
    "def bubble_sort(arr):\n",
    "    for i in reversed(range(0, len(arr))):\n",
    "        for j in range(0, i):                  #go through the entire array\n",
    "            if arr[j] > arr[j+1]:              \n",
    "                arr[j], arr[j+1] = arr[j+1], arr[j]  #swap the elements, if they are in wrong order\n",
    "    return arr\n",
    "\n",
    "print(bubble_sort(np.asarray([5, 1, 8, 2, 7, 3, 4])))"
   ]
  }
 ],
 "metadata": {
  "kernelspec": {
   "display_name": "Python 3",
   "language": "python",
   "name": "python3"
  },
  "language_info": {
   "codemirror_mode": {
    "name": "ipython",
    "version": 3
   },
   "file_extension": ".py",
   "mimetype": "text/x-python",
   "name": "python",
   "nbconvert_exporter": "python",
   "pygments_lexer": "ipython3",
   "version": "3.6.3"
  }
 },
 "nbformat": 4,
 "nbformat_minor": 2
}
