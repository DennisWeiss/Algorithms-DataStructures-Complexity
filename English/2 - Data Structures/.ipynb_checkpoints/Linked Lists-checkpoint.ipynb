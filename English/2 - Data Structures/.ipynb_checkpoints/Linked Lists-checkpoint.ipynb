{
 "cells": [
  {
   "cell_type": "markdown",
   "metadata": {},
   "source": [
    "# Linked Lists\n",
    "\n",
    "Firstly, let's implement an abstract class defining the methods and requirements (sorts and operations) of a List ADT."
   ]
  },
  {
   "cell_type": "code",
   "execution_count": 19,
   "metadata": {
    "collapsed": true
   },
   "outputs": [],
   "source": [
    "import abc\n",
    "\n",
    "\n",
    "class List(object):\n",
    "    __metaclass__ = abc.ABCMeta\n",
    "\n",
    "    @abc.abstractmethod\n",
    "    def get(self, index):\n",
    "        \"\"\"Returns the value of the list at given index.\"\"\"\n",
    "        return\n",
    "\n",
    "    @abc.abstractmethod\n",
    "    def set(self, value, index):\n",
    "        \"\"\"Sets the value to the given value of the list at given index.\"\"\"\n",
    "        return\n",
    "\n",
    "    @abc.abstractmethod\n",
    "    def insert(self, value, index):\n",
    "        \"\"\"Inserts the given value at the end of the list.\"\"\"\n",
    "        return\n",
    "\n",
    "    @abc.abstractmethod\n",
    "    def remove(self, index):\n",
    "        \"\"\"Removes the element at given index from the list.\"\"\"\n",
    "        return\n",
    "\n",
    "    @abc.abstractmethod\n",
    "    def index_of(self, value):\n",
    "        \"\"\"Returns the index of the first occurrence of the given value.\"\"\"\n",
    "        return\n",
    "\n",
    "    @abc.abstractmethod\n",
    "    def length(self):\n",
    "        \"\"\"Returns the number of elements of the list.\"\"\"\n",
    "        return\n",
    "\n",
    "    @abc.abstractmethod\n",
    "    def empty(self):\n",
    "        \"\"\"Returns true if the list is empty\"\"\"\n",
    "        return"
   ]
  },
  {
   "cell_type": "markdown",
   "metadata": {},
   "source": [
    "## Singly-Linked List\n",
    "\n",
    "For implementing a Singly-Linked List, we implement a Node class that contains a value and a referrence to the next node. If the node is at the end of the list the referrence to the next node is null. Since it is a **Singly**-Linked List, it only contains a referrence to the next node."
   ]
  },
  {
   "cell_type": "code",
   "execution_count": 20,
   "metadata": {
    "collapsed": true
   },
   "outputs": [],
   "source": [
    "class Node:\n",
    "    def __init__(self, value, next=None):\n",
    "        self.value = value\n",
    "        self.next = next\n",
    "\n",
    "    def get(self, index):\n",
    "        if index < 0:\n",
    "            return None\n",
    "        if index == 0:\n",
    "            return self.value\n",
    "        return self.next.get(index-1)\n",
    "\n",
    "    def set(self, value, index):\n",
    "        if index == 0:\n",
    "            self.value = value\n",
    "        elif index > 0:\n",
    "            self.next.set(value, index-1)\n",
    "\n",
    "    def remove(self, index):\n",
    "        if index == 1:\n",
    "            self.next = self.next.next\n",
    "        elif index > 1:\n",
    "            self.next.remove(index-1)\n",
    "\n",
    "    def index_of(self, value, index=0):\n",
    "        if self.value == value:\n",
    "            return index\n",
    "        if self.next:\n",
    "            return self.next.index_of(value, index+1)\n",
    "        return None"
   ]
  },
  {
   "cell_type": "markdown",
   "metadata": {},
   "source": [
    "Now let's implement the actual 'SinglyLinkedList' class that wraps the 'Node' class and extends the abstract class 'List'."
   ]
  },
  {
   "cell_type": "code",
   "execution_count": 21,
   "metadata": {},
   "outputs": [
    {
     "name": "stdout",
     "output_type": "stream",
     "text": [
      "our list: [2, 1, 3, 4]\n",
      "1st element: 1\n",
      "length: 4\n",
      "3rd element: 4\n",
      "length: 4\n",
      "our new list: [2, 3, 4]\n",
      "2nd element: 4\n",
      "length: 3\n",
      "our new list: [3, 4]\n",
      "0th element: 3\n",
      "length: 2\n"
     ]
    }
   ],
   "source": [
    "class SinglyLinkedList(List):\n",
    "    def __init__(self, first=None, length=0):\n",
    "        self.first = first\n",
    "        self.length_value = length\n",
    "\n",
    "    def get(self, index):\n",
    "        return self.first.get(index)\n",
    "\n",
    "    def set(self, value, index):\n",
    "        self.first.set(value, index)\n",
    "\n",
    "    def insert(self, value, index=None):\n",
    "        if not index:\n",
    "            if not self.first:\n",
    "                self.first = Node(value)\n",
    "            else:\n",
    "                node = self.first\n",
    "                while node.next:\n",
    "                    node = node.next\n",
    "                node.next = Node(value)\n",
    "        else:\n",
    "            if index == 0:\n",
    "                next = self.first\n",
    "                self.first = Node(value)\n",
    "                self.first.next = next\n",
    "            if index > 0:\n",
    "                SinglyLinkedList(self.first.next, self.length()-1).insert(value, index-1)\n",
    "        self.length_value += 1\n",
    "\n",
    "    def remove(self, index):\n",
    "        if index == 0:\n",
    "            self.first = self.first.next\n",
    "        elif index > 0:\n",
    "            self.first.remove(index)\n",
    "        self.length_value -= 1\n",
    "\n",
    "    def index_of(self, value):\n",
    "        return self.first.index_of(value)\n",
    "\n",
    "    def length(self):\n",
    "        return self.length_value\n",
    "\n",
    "    def empty(self):\n",
    "        return self.length == 0\n",
    "\n",
    "\n",
    "lst = SinglyLinkedList()\n",
    "lst.insert(2)\n",
    "lst.insert(1)\n",
    "lst.insert(3)\n",
    "lst.insert(4)\n",
    "\n",
    "print('our list: [2, 1, 3, 4]')\n",
    "print('1st element:', lst.get(1))\n",
    "print('length:', lst.length())\n",
    "print('3rd element:', lst.get(3))\n",
    "print('length:', lst.length())\n",
    "lst.remove(1)\n",
    "print('our new list: [2, 3, 4]')\n",
    "print('2nd element:', lst.get(2))\n",
    "print('length:', lst.length())\n",
    "lst.remove(0)\n",
    "print('our new list: [3, 4]')\n",
    "print('0th element:', lst.get(0))\n",
    "print('length:', lst.length())"
   ]
  }
 ],
 "metadata": {
  "kernelspec": {
   "display_name": "Python 3",
   "language": "python",
   "name": "python3"
  },
  "language_info": {
   "codemirror_mode": {
    "name": "ipython",
    "version": 3
   },
   "file_extension": ".py",
   "mimetype": "text/x-python",
   "name": "python",
   "nbconvert_exporter": "python",
   "pygments_lexer": "ipython3",
   "version": "3.6.3"
  }
 },
 "nbformat": 4,
 "nbformat_minor": 2
}
