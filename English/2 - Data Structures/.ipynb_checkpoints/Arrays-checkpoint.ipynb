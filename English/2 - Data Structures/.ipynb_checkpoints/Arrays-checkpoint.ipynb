{
 "cells": [
  {
   "cell_type": "markdown",
   "metadata": {},
   "source": [
    "# Arrays"
   ]
  },
  {
   "cell_type": "markdown",
   "metadata": {},
   "source": [
    "## Binary Search"
   ]
  },
  {
   "cell_type": "code",
   "execution_count": 27,
   "metadata": {},
   "outputs": [
    {
     "name": "stdout",
     "output_type": "stream",
     "text": [
      "2\n"
     ]
    }
   ],
   "source": [
    "import numpy as np\n",
    "import math\n",
    "\n",
    "def binary_search(arr, value, lo=None, hi=None):\n",
    "    if not lo:\n",
    "        lo = 0\n",
    "    if not hi:\n",
    "        hi = len(arr)\n",
    "    if lo >= hi:\n",
    "        return None\n",
    "    mid = math.floor((lo + hi) / 2)\n",
    "    if value == arr[mid]:\n",
    "        return mid\n",
    "    if value < arr[mid]:\n",
    "        return binary_search(arr, value, lo, mid)\n",
    "    return binary_search(arr, value, mid+1, hi)\n",
    "\n",
    "print(binary_search(np.array([1, 4, 6, 7, 9, 13, 15, 16, 18, 20, 21]), 6))"
   ]
  },
  {
   "cell_type": "markdown",
   "metadata": {
    "collapsed": true
   },
   "source": [
    "## Basic Sorting\n",
    "\n",
    "### Selection Sort"
   ]
  },
  {
   "cell_type": "code",
   "execution_count": 28,
   "metadata": {
    "scrolled": false
   },
   "outputs": [
    {
     "name": "stdout",
     "output_type": "stream",
     "text": [
      "[1, 2, 3, 4, 5, 7, 8]\n"
     ]
    }
   ],
   "source": [
    "def selection_sort(lst):\n",
    "    for i in range(0, len(lst)):\n",
    "        _min = lst[i]\n",
    "        index = i\n",
    "        for j in range(i+1, len(lst)):\n",
    "            if lst[j] < _min:\n",
    "                _min = lst[j]\n",
    "                index = j\n",
    "        lst[i], lst[index] = lst[index], lst[i]\n",
    "    return lst\n",
    "\n",
    "print(selection_sort([5, 1, 8, 2, 7, 3, 4]))"
   ]
  },
  {
   "cell_type": "markdown",
   "metadata": {},
   "source": [
    "### Bubble Sort"
   ]
  },
  {
   "cell_type": "code",
   "execution_count": 29,
   "metadata": {},
   "outputs": [
    {
     "name": "stdout",
     "output_type": "stream",
     "text": [
      "[1, 2, 3, 4, 5, 7, 8]\n"
     ]
    }
   ],
   "source": [
    "def bubble_sort(lst):\n",
    "    for i in reversed(range(0, len(lst))):\n",
    "        for j in range(0, i):\n",
    "            if lst[j] > lst[j+1]:\n",
    "                lst[j], lst[j+1] = lst[j+1], lst[j]\n",
    "    return lst\n",
    "\n",
    "print(bubble_sort([5, 1, 8, 2, 7, 3, 4]))"
   ]
  }
 ],
 "metadata": {
  "kernelspec": {
   "display_name": "Python 3",
   "language": "python",
   "name": "python3"
  },
  "language_info": {
   "codemirror_mode": {
    "name": "ipython",
    "version": 3
   },
   "file_extension": ".py",
   "mimetype": "text/x-python",
   "name": "python",
   "nbconvert_exporter": "python",
   "pygments_lexer": "ipython3",
   "version": "3.6.3"
  }
 },
 "nbformat": 4,
 "nbformat_minor": 2
}
