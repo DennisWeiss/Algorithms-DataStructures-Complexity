{
 "cells": [
  {
   "cell_type": "markdown",
   "metadata": {},
   "source": [
    "## Binary Search Tree Implementation"
   ]
  },
  {
   "cell_type": "code",
   "execution_count": 9,
   "metadata": {},
   "outputs": [
    {
     "name": "stdout",
     "output_type": "stream",
     "text": [
      "<__main__.Node object at 0x0000013D8E3B7E10>\n",
      "<__main__.Node object at 0x0000013D8E3B7F60>\n",
      "None\n",
      "<__main__.Node object at 0x0000013D8E3B7F28>\n",
      "7\n"
     ]
    }
   ],
   "source": [
    "class Node:\n",
    "    def __init__(self, value, parent=None):\n",
    "        self.value = value\n",
    "        self.parent = parent\n",
    "        self.left = None\n",
    "        self.right = None\n",
    "\n",
    "    def get(self, value):\n",
    "        return self._get(value, self)\n",
    "\n",
    "    def _get(self, value, node):\n",
    "        if not node or not node.value:\n",
    "            return None\n",
    "        if value == node.value:\n",
    "            return node\n",
    "        if value < node.value:\n",
    "            return self._get(value, node.left)\n",
    "        return self._get(value, node.right)\n",
    "\n",
    "    def insert(self, value):\n",
    "        self._insert(value, self)\n",
    "\n",
    "    def _insert(self, value, node):\n",
    "        if not node.value:\n",
    "            node.value = value\n",
    "        else:\n",
    "            if value < node.value:\n",
    "                if not node.left:\n",
    "                    node.left = Node(value, node)\n",
    "                else:\n",
    "                    self._insert(value, node.left)\n",
    "            else:\n",
    "                if not node.right:\n",
    "                    node.right = Node(value, node)\n",
    "                else:\n",
    "                    self._insert(value, node.right)\n",
    "\n",
    "    def remove(self, value):\n",
    "        self._remove(value, self)\n",
    "\n",
    "    def _remove(self, value, root):\n",
    "        node = root.get(value)\n",
    "        if node:\n",
    "            if not node.left and not node.right:\n",
    "                if value < node.parent.value:\n",
    "                    node.parent.left = None\n",
    "                else:\n",
    "                    node.parent.right = None\n",
    "            elif not node.right:\n",
    "                if value < node.parent.value:\n",
    "                    node.parent.left = node.left\n",
    "                else:\n",
    "                    node.parent.right = node.left\n",
    "            elif not node.left:\n",
    "                if value < node.parent.value:\n",
    "                    node.parent.left = node.right\n",
    "                else:\n",
    "                    node.parent.right = node.right\n",
    "            else:\n",
    "                other_node = self._smallest(node.right)\n",
    "                node.value = other_node.value\n",
    "                self._remove(other_node.value, other_node)\n",
    "\n",
    "    def _smallest(self, node):\n",
    "        if node.left is None:\n",
    "            return node\n",
    "        return self._smallest(node.left)\n",
    "\n",
    "\n",
    "bst = Node(5)\n",
    "bst.insert(1)\n",
    "bst.insert(9)\n",
    "bst.insert(2)\n",
    "bst.insert(7)\n",
    "bst.insert(3)\n",
    "bst.insert(4)\n",
    "bst.insert(8)\n",
    "\n",
    "bst.remove(5)\n",
    "\n",
    "print(bst.get(7))\n",
    "print(bst.get(4))\n",
    "print(bst.get(5))\n",
    "print(bst.get(3))\n",
    "print(bst.value)"
   ]
  },
  {
   "cell_type": "markdown",
   "metadata": {
    "collapsed": true
   },
   "source": [
    "## Using In-order travesal to sort the elements of a Binary Search Tree"
   ]
  },
  {
   "cell_type": "code",
   "execution_count": 10,
   "metadata": {},
   "outputs": [
    {
     "name": "stdout",
     "output_type": "stream",
     "text": [
      "[1, 2, 3, 4, 7, 8, 9]\n"
     ]
    }
   ],
   "source": [
    "def in_order_trav(node):\n",
    "    if node:\n",
    "        return in_order_trav(node.left) + [node.value] + in_order_trav(node.right)\n",
    "    return []\n",
    "\n",
    "print(in_order_trav(bst))"
   ]
  }
 ],
 "metadata": {
  "kernelspec": {
   "display_name": "Python 3",
   "language": "python",
   "name": "python3"
  },
  "language_info": {
   "codemirror_mode": {
    "name": "ipython",
    "version": 3
   },
   "file_extension": ".py",
   "mimetype": "text/x-python",
   "name": "python",
   "nbconvert_exporter": "python",
   "pygments_lexer": "ipython3",
   "version": "3.6.3"
  }
 },
 "nbformat": 4,
 "nbformat_minor": 2
}
