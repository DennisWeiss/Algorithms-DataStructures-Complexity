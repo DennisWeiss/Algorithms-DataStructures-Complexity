{
 "cells": [
  {
   "cell_type": "code",
   "execution_count": 5,
   "metadata": {},
   "outputs": [
    {
     "name": "stdout",
     "output_type": "stream",
     "text": [
      "[1, 2, 3, 4, 5, 7, 8]\n"
     ]
    }
   ],
   "source": [
    "def quicksort(lst):\n",
    "    if len(lst) < 2:\n",
    "        return lst\n",
    "    wall = 0\n",
    "    pivot = lst[0]\n",
    "    for i in range(1, len(lst)):\n",
    "        if lst[i] < pivot:\n",
    "            lst[wall+1], lst[i] = lst[i], lst[wall+1]\n",
    "            wall += 1\n",
    "    lst[0], lst[wall] = lst[wall], lst[0]\n",
    "    return quicksort(lst[:wall]) + [lst[wall]] + quicksort(lst[wall+1:])\n",
    "\n",
    "print(quicksort([5, 1, 8, 2, 7, 3, 4]))       "
   ]
  },
  {
   "cell_type": "code",
   "execution_count": null,
   "metadata": {
    "collapsed": true
   },
   "outputs": [],
   "source": []
  }
 ],
 "metadata": {
  "kernelspec": {
   "display_name": "Python 3",
   "language": "python",
   "name": "python3"
  },
  "language_info": {
   "codemirror_mode": {
    "name": "ipython",
    "version": 3
   },
   "file_extension": ".py",
   "mimetype": "text/x-python",
   "name": "python",
   "nbconvert_exporter": "python",
   "pygments_lexer": "ipython3",
   "version": "3.6.3"
  }
 },
 "nbformat": 4,
 "nbformat_minor": 2
}
