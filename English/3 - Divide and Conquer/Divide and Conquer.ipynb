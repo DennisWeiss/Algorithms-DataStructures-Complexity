{
 "cells": [
  {
   "cell_type": "markdown",
   "metadata": {},
   "source": [
    "# Divide and Conquer"
   ]
  },
  {
   "cell_type": "markdown",
   "metadata": {},
   "source": [
    "## Merge Sort"
   ]
  },
  {
   "cell_type": "code",
   "execution_count": 3,
   "metadata": {},
   "outputs": [
    {
     "name": "stdout",
     "output_type": "stream",
     "text": [
      "[1, 2, 3, 4, 5, 7, 8]\n"
     ]
    }
   ],
   "source": [
    "import math\n",
    "\n",
    "def mergesort(lst):\n",
    "    if len(lst) < 2:\n",
    "        return lst\n",
    "    return merge(mergesort(lst[0:math.floor(len(lst)/2)]), mergesort(lst[math.floor(len(lst)/2):len(lst)]))\n",
    "\n",
    "def merge(a, b):\n",
    "    if not a:\n",
    "        return b\n",
    "    if not b:\n",
    "        return a\n",
    "    if a[0] < b[0]:\n",
    "        return [a[0]] + merge(a[1:], b)\n",
    "    return [b[0]] + merge(a, b[1:])\n",
    "\n",
    "\n",
    "print(mergesort([5, 1, 8, 2, 7, 3, 4]))"
   ]
  },
  {
   "cell_type": "markdown",
   "metadata": {},
   "source": [
    "## Quick Sort"
   ]
  },
  {
   "cell_type": "code",
   "execution_count": 4,
   "metadata": {},
   "outputs": [
    {
     "name": "stdout",
     "output_type": "stream",
     "text": [
      "[1, 2, 3, 4, 5, 7, 8]\n"
     ]
    }
   ],
   "source": [
    "def quicksort(lst):\n",
    "    if len(lst) < 2:\n",
    "        return lst\n",
    "    wall = 0\n",
    "    pivot = lst[0]\n",
    "    for i in range(1, len(lst)):\n",
    "        if lst[i] < pivot:\n",
    "            lst[wall+1], lst[i] = lst[i], lst[wall+1]\n",
    "            wall += 1\n",
    "    lst[0], lst[wall] = lst[wall], lst[0]\n",
    "    return quicksort(lst[:wall]) + [lst[wall]] + quicksort(lst[wall+1:])\n",
    "\n",
    "print(quicksort([5, 1, 8, 2, 7, 3, 4]))     "
   ]
  }
 ],
 "metadata": {
  "kernelspec": {
   "display_name": "Python 3",
   "language": "python",
   "name": "python3"
  },
  "language_info": {
   "codemirror_mode": {
    "name": "ipython",
    "version": 3
   },
   "file_extension": ".py",
   "mimetype": "text/x-python",
   "name": "python",
   "nbconvert_exporter": "python",
   "pygments_lexer": "ipython3",
   "version": "3.6.3"
  }
 },
 "nbformat": 4,
 "nbformat_minor": 2
}
