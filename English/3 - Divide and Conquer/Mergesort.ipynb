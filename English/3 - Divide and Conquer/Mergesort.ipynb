{
 "cells": [
  {
   "cell_type": "code",
   "execution_count": 5,
   "metadata": {},
   "outputs": [
    {
     "name": "stdout",
     "output_type": "stream",
     "text": [
      "[1, 2, 3, 4, 5, 7, 8]\n"
     ]
    }
   ],
   "source": [
    "import math\n",
    "\n",
    "def mergesort(lst):\n",
    "    if len(lst) < 2:\n",
    "        return lst\n",
    "    return merge(mergesort(lst[0:math.floor(len(lst)/2)]), mergesort(lst[math.floor(len(lst)/2):len(lst)]))\n",
    "\n",
    "def merge(a, b):\n",
    "    if not a:\n",
    "        return b\n",
    "    if not b:\n",
    "        return a\n",
    "    if a[0] < b[0]:\n",
    "        return [a[0]] + merge(a[1:], b)\n",
    "    return [b[0]] + merge(a, b[1:])\n",
    "\n",
    "\n",
    "print(mergesort([5, 1, 8, 2, 7, 3, 4]))"
   ]
  },
  {
   "cell_type": "code",
   "execution_count": null,
   "metadata": {
    "collapsed": true
   },
   "outputs": [],
   "source": []
  }
 ],
 "metadata": {
  "kernelspec": {
   "display_name": "Python 3",
   "language": "python",
   "name": "python3"
  },
  "language_info": {
   "codemirror_mode": {
    "name": "ipython",
    "version": 3
   },
   "file_extension": ".py",
   "mimetype": "text/x-python",
   "name": "python",
   "nbconvert_exporter": "python",
   "pygments_lexer": "ipython3",
   "version": "3.6.3"
  }
 },
 "nbformat": 4,
 "nbformat_minor": 2
}
